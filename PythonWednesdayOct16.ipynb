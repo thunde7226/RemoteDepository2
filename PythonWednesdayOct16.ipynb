{
  "nbformat": 4,
  "nbformat_minor": 0,
  "metadata": {
    "colab": {
      "provenance": [],
      "authorship_tag": "ABX9TyOMCKODOhS2NVOpCKQurkgP",
      "include_colab_link": true
    },
    "kernelspec": {
      "name": "python3",
      "display_name": "Python 3"
    },
    "language_info": {
      "name": "python"
    }
  },
  "cells": [
    {
      "cell_type": "markdown",
      "metadata": {
        "id": "view-in-github",
        "colab_type": "text"
      },
      "source": [
        "<a href=\"https://colab.research.google.com/github/thunde7226/RemoteDepository2/blob/master/PythonWednesdayOct16.ipynb\" target=\"_parent\"><img src=\"https://colab.research.google.com/assets/colab-badge.svg\" alt=\"Open In Colab\"/></a>"
      ]
    },
    {
      "cell_type": "code",
      "source": [
        "#Collection and Wednesday Python Practice\n"
      ],
      "metadata": {
        "id": "CJz45HTLlopk"
      },
      "execution_count": 1,
      "outputs": []
    },
    {
      "cell_type": "code",
      "source": [
        "import io, os, sys, html\n",
        "\n",
        "hero = \"Superman\"\n",
        "Guide = \"Thenos\"\n",
        "enemy = \"MeOverLoard\"\n",
        "print(hash(hero))\n",
        "print(hash(Guide))"
      ],
      "metadata": {
        "colab": {
          "base_uri": "https://localhost:8080/"
        },
        "id": "uTPIzC3il1A8",
        "outputId": "e052cfc9-921d-4b41-c83a-c8693a1cb9bf"
      },
      "execution_count": 6,
      "outputs": [
        {
          "output_type": "stream",
          "name": "stdout",
          "text": [
            "-8003540063975053010\n",
            "6023042438446029227\n"
          ]
        }
      ]
    },
    {
      "cell_type": "markdown",
      "source": [
        "#Practice using a set of Strings\n"
      ],
      "metadata": {
        "id": "hEM_pSgHmiqF"
      }
    },
    {
      "cell_type": "code",
      "source": [
        "characters = {hero, Guide, enemy}\n",
        "print(characters)\n"
      ],
      "metadata": {
        "colab": {
          "base_uri": "https://localhost:8080/"
        },
        "id": "Kpu__eQpmopS",
        "outputId": "19779e1a-72e0-43ee-fb8d-3925ebf7fde8"
      },
      "execution_count": 7,
      "outputs": [
        {
          "output_type": "stream",
          "name": "stdout",
          "text": [
            "{'MeOverLoard', 'Thenos', 'Superman'}\n"
          ]
        }
      ]
    },
    {
      "cell_type": "markdown",
      "source": [
        "Using Dictionaries\n",
        "remember (Key, value) \n",
        "must have pairs"
      ],
      "metadata": {
        "id": "8E20Nb6OoZDj"
      }
    },
    {
      "cell_type": "code",
      "source": [
        "calories = {'watermelon': 85, 'peaches': 50, 'wheat': 455, 'grapes': 62, 'strawberry': 4}\n",
        "\n",
        "print(calories['peaches'] > calories['grapes'])\n",
        "print(calories['watermelon'] > calories['strawberry'])\n",
        "for k, v in calories.items():\n",
        "  print(k) if v > 300 else None\n",
        "\n"
      ],
      "metadata": {
        "colab": {
          "base_uri": "https://localhost:8080/"
        },
        "id": "z4IVeO1Iok6w",
        "outputId": "52b2dc3c-a990-4fb5-ea2e-ab6b09841515"
      },
      "execution_count": 9,
      "outputs": [
        {
          "output_type": "stream",
          "name": "stdout",
          "text": [
            "False\n",
            "True\n",
            "wheat\n"
          ]
        }
      ]
    },
    {
      "cell_type": "markdown",
      "source": [
        "### Using List "
      ],
      "metadata": {
        "id": "DQVFPgwpsbcc"
      }
    },
    {
      "cell_type": "code",
      "source": [
        "print(x for x in range(23))\n",
        "\n",
        "print([(x, y) for x in range(15) for y in range(15)])"
      ],
      "metadata": {
        "colab": {
          "base_uri": "https://localhost:8080/"
        },
        "id": "cG0yG0oAstKG",
        "outputId": "f03e2946-bcb0-450d-991c-2ef976239a62"
      },
      "execution_count": 10,
      "outputs": [
        {
          "output_type": "stream",
          "name": "stdout",
          "text": [
            "<generator object <genexpr> at 0x7f3b0442cad0>\n",
            "[(0, 0), (0, 1), (0, 2), (0, 3), (0, 4), (0, 5), (0, 6), (0, 7), (0, 8), (0, 9), (0, 10), (0, 11), (0, 12), (0, 13), (0, 14), (1, 0), (1, 1), (1, 2), (1, 3), (1, 4), (1, 5), (1, 6), (1, 7), (1, 8), (1, 9), (1, 10), (1, 11), (1, 12), (1, 13), (1, 14), (2, 0), (2, 1), (2, 2), (2, 3), (2, 4), (2, 5), (2, 6), (2, 7), (2, 8), (2, 9), (2, 10), (2, 11), (2, 12), (2, 13), (2, 14), (3, 0), (3, 1), (3, 2), (3, 3), (3, 4), (3, 5), (3, 6), (3, 7), (3, 8), (3, 9), (3, 10), (3, 11), (3, 12), (3, 13), (3, 14), (4, 0), (4, 1), (4, 2), (4, 3), (4, 4), (4, 5), (4, 6), (4, 7), (4, 8), (4, 9), (4, 10), (4, 11), (4, 12), (4, 13), (4, 14), (5, 0), (5, 1), (5, 2), (5, 3), (5, 4), (5, 5), (5, 6), (5, 7), (5, 8), (5, 9), (5, 10), (5, 11), (5, 12), (5, 13), (5, 14), (6, 0), (6, 1), (6, 2), (6, 3), (6, 4), (6, 5), (6, 6), (6, 7), (6, 8), (6, 9), (6, 10), (6, 11), (6, 12), (6, 13), (6, 14), (7, 0), (7, 1), (7, 2), (7, 3), (7, 4), (7, 5), (7, 6), (7, 7), (7, 8), (7, 9), (7, 10), (7, 11), (7, 12), (7, 13), (7, 14), (8, 0), (8, 1), (8, 2), (8, 3), (8, 4), (8, 5), (8, 6), (8, 7), (8, 8), (8, 9), (8, 10), (8, 11), (8, 12), (8, 13), (8, 14), (9, 0), (9, 1), (9, 2), (9, 3), (9, 4), (9, 5), (9, 6), (9, 7), (9, 8), (9, 9), (9, 10), (9, 11), (9, 12), (9, 13), (9, 14), (10, 0), (10, 1), (10, 2), (10, 3), (10, 4), (10, 5), (10, 6), (10, 7), (10, 8), (10, 9), (10, 10), (10, 11), (10, 12), (10, 13), (10, 14), (11, 0), (11, 1), (11, 2), (11, 3), (11, 4), (11, 5), (11, 6), (11, 7), (11, 8), (11, 9), (11, 10), (11, 11), (11, 12), (11, 13), (11, 14), (12, 0), (12, 1), (12, 2), (12, 3), (12, 4), (12, 5), (12, 6), (12, 7), (12, 8), (12, 9), (12, 10), (12, 11), (12, 12), (12, 13), (12, 14), (13, 0), (13, 1), (13, 2), (13, 3), (13, 4), (13, 5), (13, 6), (13, 7), (13, 8), (13, 9), (13, 10), (13, 11), (13, 12), (13, 13), (13, 14), (14, 0), (14, 1), (14, 2), (14, 3), (14, 4), (14, 5), (14, 6), (14, 7), (14, 8), (14, 9), (14, 10), (14, 11), (14, 12), (14, 13), (14, 14)]\n"
          ]
        }
      ]
    },
    {
      "cell_type": "code",
      "source": [
        "print([x ** 3.87788 for x in range(17) if x % 2 > 0])"
      ],
      "metadata": {
        "colab": {
          "base_uri": "https://localhost:8080/"
        },
        "id": "s4VdIfL-t8cG",
        "outputId": "88987255-c51a-4b0d-efc2-8aa10327020e"
      },
      "execution_count": 11,
      "outputs": [
        {
          "output_type": "stream",
          "name": "stdout",
          "text": [
            "[1.0, 70.83028206083294, 513.4779520677813, 1893.1663974872608, 5016.928856817152, 10924.356542082292, 20880.391969644876, 36369.788176979804]\n"
          ]
        }
      ]
    },
    {
      "cell_type": "markdown",
      "source": [
        "##From GodofWar.fandom.com Nov 16, 2022\n",
        "\n"
      ],
      "metadata": {
        "id": "7M6msjBUvTsT"
      }
    },
    {
      "cell_type": "code",
      "source": [
        "Hermes = '''\n",
        "  In Greek mythology, Hermes is the messenger of the gods and additionally, a guide to the Underworld. As an Olympian god, his sphere of influence was vast; \n",
        "  he was the patron of boundaries (and the travelers who cross them), shepherds and cowherds, thieves and liars (and their cunning), orators and wit, literature and poets, \n",
        "  athletics and sports, weights and measures, invention, general commerce, profit and good luck. He also acted as the messenger of Hades, guiding departed souls to their final \n",
        "  resting place and carrying messages between the Underworld and Olympus. Another of his duties was to take Dreams from the God Morpheus and deliver them to the mortals. '''\n",
        "\n",
        "w = [[x for x in line.split() if len(x)> 3] for line in Hermes.split('\\n')]\n",
        "\n",
        "print(w)\n",
        "\n",
        "   \n",
        "\n"
      ],
      "metadata": {
        "colab": {
          "base_uri": "https://localhost:8080/"
        },
        "id": "ZIUEg8RIvePP",
        "outputId": "012785e5-32cf-4024-d188-596c223f37e4"
      },
      "execution_count": 16,
      "outputs": [
        {
          "output_type": "stream",
          "name": "stdout",
          "text": [
            "[[], ['Greek', 'mythology,', 'Hermes', 'messenger', 'gods', 'additionally,', 'guide', 'Underworld.', 'Olympian', 'god,', 'sphere', 'influence', 'vast;'], ['patron', 'boundaries', '(and', 'travelers', 'cross', 'them),', 'shepherds', 'cowherds,', 'thieves', 'liars', '(and', 'their', 'cunning),', 'orators', 'wit,', 'literature', 'poets,'], ['athletics', 'sports,', 'weights', 'measures,', 'invention,', 'general', 'commerce,', 'profit', 'good', 'luck.', 'also', 'acted', 'messenger', 'Hades,', 'guiding', 'departed', 'souls', 'their', 'final'], ['resting', 'place', 'carrying', 'messages', 'between', 'Underworld', 'Olympus.', 'Another', 'duties', 'take', 'Dreams', 'from', 'Morpheus', 'deliver', 'them', 'mortals.']]\n"
          ]
        }
      ]
    },
    {
      "cell_type": "markdown",
      "source": [
        "#The cardiac Cycle \n",
        "#Using Matplotlib "
      ],
      "metadata": {
        "id": "tLewtXQy4eHz"
      }
    },
    {
      "cell_type": "code",
      "source": [
        "import matplotlib.pyplot as plt\n",
        "#data\n",
        "cardiac_cycle = [68, 71, 74, 75, 78, 80, 83, 84, 86, 87, 84, 88, 89, 92, 88,  86, 78, 69]\n",
        "\n",
        "expected_cycles = cardiac_cycle[1:-3] * 6\n",
        "\n",
        "#finish\n",
        "plt.plot(expected_cycles)\n",
        "plt.show()\n"
      ],
      "metadata": {
        "colab": {
          "base_uri": "https://localhost:8080/",
          "height": 265
        },
        "id": "2arxhxh44v_j",
        "outputId": "b6cd6599-8ff2-4c08-a049-795a1abedab6"
      },
      "execution_count": 19,
      "outputs": [
        {
          "output_type": "display_data",
          "data": {
            "text/plain": [
              "<Figure size 432x288 with 1 Axes>"
            ],
            "image/png": "[encoded data removed]"
          },
          "metadata": {
            "needs_background": "light"
          }
        }
      ]
    },
    {
      "cell_type": "markdown",
      "source": [
        "###Boolean indexing and Using the Numpy arrays. ...:) "
      ],
      "metadata": {
        "id": "ofJ30Wyi_KTG"
      }
    },
    {
      "cell_type": "code",
      "source": [
        "import numpy as np\n",
        "\n",
        "x = np.array ([[1, 4, 5],\n",
        "               [4, 6, 7],\n",
        "               [9, 5, 6],\n",
        "               [7, 5, 4]])\n",
        "\n",
        "indices = np.array([[True, False, True],\n",
        "                    [False, False, False],\n",
        "                    [True, True, False],\n",
        "                    [False, True, False ]])\n",
        "\n",
        "print(x[indices])\n",
        "\n"
      ],
      "metadata": {
        "colab": {
          "base_uri": "https://localhost:8080/"
        },
        "id": "sVTJHzVl_SG0",
        "outputId": "2b0f0a00-8d19-48fe-dc8c-4821912947d1"
      },
      "execution_count": 23,
      "outputs": [
        {
          "output_type": "stream",
          "name": "stdout",
          "text": [
            "[1 5 9 5 5]\n"
          ]
        }
      ]
    }
  ]
}